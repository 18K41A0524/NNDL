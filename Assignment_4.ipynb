{
  "nbformat": 4,
  "nbformat_minor": 0,
  "metadata": {
    "colab": {
      "name": "Assignment-4.ipynb",
      "provenance": [],
      "authorship_tag": "ABX9TyOQHS2ggvMHhTFOt1ILFhTa",
      "include_colab_link": true
    },
    "kernelspec": {
      "name": "python3",
      "display_name": "Python 3"
    },
    "language_info": {
      "name": "python"
    }
  },
  "cells": [
    {
      "cell_type": "markdown",
      "metadata": {
        "id": "view-in-github",
        "colab_type": "text"
      },
      "source": [
        "<a href=\"https://colab.research.google.com/github/18K41A0524/NNDL/blob/main/Assignment_4.ipynb\" target=\"_parent\"><img src=\"https://colab.research.google.com/assets/colab-badge.svg\" alt=\"Open In Colab\"/></a>"
      ]
    },
    {
      "cell_type": "code",
      "metadata": {
        "id": "9-1_Cr6VNPMv"
      },
      "source": [
        "import numpy as np\n",
        "import matplotlib.pyplot as plt\n",
        "import pandas as pd\n",
        "from sklearn.preprocessing import minmax_scale\n",
        "from sklearn.model_selection import train_test_split\n",
        "import seaborn as sns\n",
        "from scipy import stats"
      ],
      "execution_count": 1,
      "outputs": []
    },
    {
      "cell_type": "code",
      "metadata": {
        "colab": {
          "base_uri": "https://localhost:8080/",
          "height": 221
        },
        "id": "nZoDQ9VGN_V0",
        "outputId": "b945d915-5cdb-4f60-9dc6-d135a1d1acf3"
      },
      "source": [
        "data = pd.read_excel(\"/content/sample_data/unioncarbide.xls\")\n",
        "data.head()"
      ],
      "execution_count": 3,
      "outputs": [
        {
          "output_type": "stream",
          "text": [
            "*** No CODEPAGE record, no encoding_override: will use 'ascii'\n"
          ],
          "name": "stdout"
        },
        {
          "output_type": "execute_result",
          "data": {
            "text/html": [
              "<div>\n",
              "<style scoped>\n",
              "    .dataframe tbody tr th:only-of-type {\n",
              "        vertical-align: middle;\n",
              "    }\n",
              "\n",
              "    .dataframe tbody tr th {\n",
              "        vertical-align: top;\n",
              "    }\n",
              "\n",
              "    .dataframe thead th {\n",
              "        text-align: right;\n",
              "    }\n",
              "</style>\n",
              "<table border=\"1\" class=\"dataframe\">\n",
              "  <thead>\n",
              "    <tr style=\"text-align: right;\">\n",
              "      <th></th>\n",
              "      <th>X</th>\n",
              "      <th>Y</th>\n",
              "    </tr>\n",
              "  </thead>\n",
              "  <tbody>\n",
              "    <tr>\n",
              "      <th>0</th>\n",
              "      <td>7.6</td>\n",
              "      <td>157</td>\n",
              "    </tr>\n",
              "    <tr>\n",
              "      <th>1</th>\n",
              "      <td>7.1</td>\n",
              "      <td>174</td>\n",
              "    </tr>\n",
              "    <tr>\n",
              "      <th>2</th>\n",
              "      <td>8.2</td>\n",
              "      <td>175</td>\n",
              "    </tr>\n",
              "    <tr>\n",
              "      <th>3</th>\n",
              "      <td>7.5</td>\n",
              "      <td>188</td>\n",
              "    </tr>\n",
              "    <tr>\n",
              "      <th>4</th>\n",
              "      <td>7.4</td>\n",
              "      <td>171</td>\n",
              "    </tr>\n",
              "  </tbody>\n",
              "</table>\n",
              "</div>"
            ],
            "text/plain": [
              "     X    Y\n",
              "0  7.6  157\n",
              "1  7.1  174\n",
              "2  8.2  175\n",
              "3  7.5  188\n",
              "4  7.4  171"
            ]
          },
          "metadata": {
            "tags": []
          },
          "execution_count": 3
        }
      ]
    },
    {
      "cell_type": "code",
      "metadata": {
        "colab": {
          "base_uri": "https://localhost:8080/"
        },
        "id": "a7M9QcDMOf_H",
        "outputId": "dccab43d-ece8-4aed-b730-734eee5cf571"
      },
      "source": [
        "data.info()"
      ],
      "execution_count": 4,
      "outputs": [
        {
          "output_type": "stream",
          "text": [
            "<class 'pandas.core.frame.DataFrame'>\n",
            "RangeIndex: 34 entries, 0 to 33\n",
            "Data columns (total 2 columns):\n",
            " #   Column  Non-Null Count  Dtype  \n",
            "---  ------  --------------  -----  \n",
            " 0   X       34 non-null     float64\n",
            " 1   Y       34 non-null     int64  \n",
            "dtypes: float64(1), int64(1)\n",
            "memory usage: 672.0 bytes\n"
          ],
          "name": "stdout"
        }
      ]
    },
    {
      "cell_type": "code",
      "metadata": {
        "colab": {
          "base_uri": "https://localhost:8080/"
        },
        "id": "wSOvlbhOOkh3",
        "outputId": "a41fc56b-8396-4bae-e5f1-9a2c61d50402"
      },
      "source": [
        "z = np.abs(stats.zscore(data))\n",
        "print(z)"
      ],
      "execution_count": 5,
      "outputs": [
        {
          "output_type": "stream",
          "text": [
            "[[0.12500664 0.25847285]\n",
            " [1.13696519 0.56778404]\n",
            " [1.08934361 0.58597881]\n",
            " [0.32739835 0.8225109 ]\n",
            " [0.52979006 0.51319971]\n",
            " [0.27977677 0.00374598]\n",
            " [0.73218177 1.3501594 ]\n",
            " [0.68456019 0.85890045]\n",
            " [1.13696519 0.01444879]\n",
            " [0.32739835 0.85890045]\n",
            " [0.8869519  1.31376985]\n",
            " [1.3393569  1.02265344]\n",
            " [0.73218177 2.16892432]\n",
            " [0.27977677 0.6876555 ]\n",
            " [0.73218177 0.39653909]\n",
            " [0.68456019 1.12433013]\n",
            " [1.69651874 1.10613535]\n",
            " [1.13696519 1.22279597]\n",
            " [1.08934361 1.07723776]\n",
            " [0.48216848 0.22208329]\n",
            " [0.12500664 0.25847285]\n",
            " [2.30369386 0.07652509]\n",
            " [0.93457348 0.17820178]\n",
            " [0.48216848 1.63378385]\n",
            " [0.8869519  1.57919952]\n",
            " [0.07738507 0.5420973 ]\n",
            " [1.49412703 1.96128982]\n",
            " [0.52979006 0.32375998]\n",
            " [0.73218177 1.21530401]\n",
            " [1.69651874 1.72475773]\n",
            " [0.27977677 0.07652509]\n",
            " [1.94653203 0.46931819]\n",
            " [1.13696519 0.71334225]\n",
            " [0.73218177 1.01516147]]\n"
          ],
          "name": "stdout"
        }
      ]
    },
    {
      "cell_type": "code",
      "metadata": {
        "colab": {
          "base_uri": "https://localhost:8080/",
          "height": 296
        },
        "id": "rF5bOn4kOqR6",
        "outputId": "f8b20129-52f6-4c2f-e000-3a779696cbfd"
      },
      "source": [
        "sns.boxplot(x=data['X'])"
      ],
      "execution_count": 6,
      "outputs": [
        {
          "output_type": "execute_result",
          "data": {
            "text/plain": [
              "<matplotlib.axes._subplots.AxesSubplot at 0x7f1048a64b50>"
            ]
          },
          "metadata": {
            "tags": []
          },
          "execution_count": 6
        },
        {
          "output_type": "display_data",
          "data": {
            "image/png": "[encoded data removed]",
            "text/plain": [
              "<Figure size 432x288 with 1 Axes>"
            ]
          },
          "metadata": {
            "tags": [],
            "needs_background": "light"
          }
        }
      ]
    },
    {
      "cell_type": "code",
      "metadata": {
        "colab": {
          "base_uri": "https://localhost:8080/",
          "height": 269
        },
        "id": "mTE5WQkBOvFA",
        "outputId": "52cd732f-118c-4fd9-b71d-8a60b3742c2e"
      },
      "source": [
        "sns.boxplot(y=data['Y'])"
      ],
      "execution_count": 7,
      "outputs": [
        {
          "output_type": "execute_result",
          "data": {
            "text/plain": [
              "<matplotlib.axes._subplots.AxesSubplot at 0x7f1048166310>"
            ]
          },
          "metadata": {
            "tags": []
          },
          "execution_count": 7
        },
        {
          "output_type": "display_data",
          "data": {
            "image/png": "[encoded data removed]",
            "text/plain": [
              "<Figure size 432x288 with 1 Axes>"
            ]
          },
          "metadata": {
            "tags": [],
            "needs_background": "light"
          }
        }
      ]
    },
    {
      "cell_type": "code",
      "metadata": {
        "colab": {
          "base_uri": "https://localhost:8080/",
          "height": 204
        },
        "id": "74wWhKR2Oz4y",
        "outputId": "059947bd-f4a8-47e4-874e-8e78b2d45796"
      },
      "source": [
        "f_data = data[(z < 3).all(axis=1)]\n",
        "f_data.head()"
      ],
      "execution_count": 8,
      "outputs": [
        {
          "output_type": "execute_result",
          "data": {
            "text/html": [
              "<div>\n",
              "<style scoped>\n",
              "    .dataframe tbody tr th:only-of-type {\n",
              "        vertical-align: middle;\n",
              "    }\n",
              "\n",
              "    .dataframe tbody tr th {\n",
              "        vertical-align: top;\n",
              "    }\n",
              "\n",
              "    .dataframe thead th {\n",
              "        text-align: right;\n",
              "    }\n",
              "</style>\n",
              "<table border=\"1\" class=\"dataframe\">\n",
              "  <thead>\n",
              "    <tr style=\"text-align: right;\">\n",
              "      <th></th>\n",
              "      <th>X</th>\n",
              "      <th>Y</th>\n",
              "    </tr>\n",
              "  </thead>\n",
              "  <tbody>\n",
              "    <tr>\n",
              "      <th>0</th>\n",
              "      <td>7.6</td>\n",
              "      <td>157</td>\n",
              "    </tr>\n",
              "    <tr>\n",
              "      <th>1</th>\n",
              "      <td>7.1</td>\n",
              "      <td>174</td>\n",
              "    </tr>\n",
              "    <tr>\n",
              "      <th>2</th>\n",
              "      <td>8.2</td>\n",
              "      <td>175</td>\n",
              "    </tr>\n",
              "    <tr>\n",
              "      <th>3</th>\n",
              "      <td>7.5</td>\n",
              "      <td>188</td>\n",
              "    </tr>\n",
              "    <tr>\n",
              "      <th>4</th>\n",
              "      <td>7.4</td>\n",
              "      <td>171</td>\n",
              "    </tr>\n",
              "  </tbody>\n",
              "</table>\n",
              "</div>"
            ],
            "text/plain": [
              "     X    Y\n",
              "0  7.6  157\n",
              "1  7.1  174\n",
              "2  8.2  175\n",
              "3  7.5  188\n",
              "4  7.4  171"
            ]
          },
          "metadata": {
            "tags": []
          },
          "execution_count": 8
        }
      ]
    },
    {
      "cell_type": "code",
      "metadata": {
        "colab": {
          "base_uri": "https://localhost:8080/",
          "height": 204
        },
        "id": "A5AaJx02O4xZ",
        "outputId": "bb78b8b0-1c75-4b42-9188-d9e7a50b7cf2"
      },
      "source": [
        "df = data\n",
        "for i in df:\n",
        "    q = df[i].quantile(0.99)\n",
        "    df[df[i] < q]\n",
        "    q_low = df[i].quantile(0.01)\n",
        "    q_hi  = df[i].quantile(0.99)\n",
        "\n",
        "    df_filtered = df[(df[i] < q_hi) & (df[i] > q_low)]\n",
        "df_filtered.head()"
      ],
      "execution_count": 9,
      "outputs": [
        {
          "output_type": "execute_result",
          "data": {
            "text/html": [
              "<div>\n",
              "<style scoped>\n",
              "    .dataframe tbody tr th:only-of-type {\n",
              "        vertical-align: middle;\n",
              "    }\n",
              "\n",
              "    .dataframe tbody tr th {\n",
              "        vertical-align: top;\n",
              "    }\n",
              "\n",
              "    .dataframe thead th {\n",
              "        text-align: right;\n",
              "    }\n",
              "</style>\n",
              "<table border=\"1\" class=\"dataframe\">\n",
              "  <thead>\n",
              "    <tr style=\"text-align: right;\">\n",
              "      <th></th>\n",
              "      <th>X</th>\n",
              "      <th>Y</th>\n",
              "    </tr>\n",
              "  </thead>\n",
              "  <tbody>\n",
              "    <tr>\n",
              "      <th>0</th>\n",
              "      <td>7.6</td>\n",
              "      <td>157</td>\n",
              "    </tr>\n",
              "    <tr>\n",
              "      <th>1</th>\n",
              "      <td>7.1</td>\n",
              "      <td>174</td>\n",
              "    </tr>\n",
              "    <tr>\n",
              "      <th>2</th>\n",
              "      <td>8.2</td>\n",
              "      <td>175</td>\n",
              "    </tr>\n",
              "    <tr>\n",
              "      <th>3</th>\n",
              "      <td>7.5</td>\n",
              "      <td>188</td>\n",
              "    </tr>\n",
              "    <tr>\n",
              "      <th>4</th>\n",
              "      <td>7.4</td>\n",
              "      <td>171</td>\n",
              "    </tr>\n",
              "  </tbody>\n",
              "</table>\n",
              "</div>"
            ],
            "text/plain": [
              "     X    Y\n",
              "0  7.6  157\n",
              "1  7.1  174\n",
              "2  8.2  175\n",
              "3  7.5  188\n",
              "4  7.4  171"
            ]
          },
          "metadata": {
            "tags": []
          },
          "execution_count": 9
        }
      ]
    },
    {
      "cell_type": "code",
      "metadata": {
        "colab": {
          "base_uri": "https://localhost:8080/"
        },
        "id": "h_ET3Kt1O-KO",
        "outputId": "b3e7e13e-06c0-4831-d7cd-5f298f8057fe"
      },
      "source": [
        "data = df_filtered\n",
        "print(len(data))\n",
        "print(len(df_filtered))\n",
        "if(len(data) == len(df_filtered)):\n",
        "    print('No outliners')"
      ],
      "execution_count": 10,
      "outputs": [
        {
          "output_type": "stream",
          "text": [
            "32\n",
            "32\n",
            "No outliners\n"
          ],
          "name": "stdout"
        }
      ]
    },
    {
      "cell_type": "code",
      "metadata": {
        "colab": {
          "base_uri": "https://localhost:8080/",
          "height": 204
        },
        "id": "ba4U0x0YPGBE",
        "outputId": "c4e648f1-2c84-4060-ec3d-73720fedfaed"
      },
      "source": [
        "data_n = data.copy()\n",
        "data_n = (data_n - data_n.min())/(data_n.max() - data_n.min())\n",
        "data_n.head()"
      ],
      "execution_count": 11,
      "outputs": [
        {
          "output_type": "execute_result",
          "data": {
            "text/html": [
              "<div>\n",
              "<style scoped>\n",
              "    .dataframe tbody tr th:only-of-type {\n",
              "        vertical-align: middle;\n",
              "    }\n",
              "\n",
              "    .dataframe tbody tr th {\n",
              "        vertical-align: top;\n",
              "    }\n",
              "\n",
              "    .dataframe thead th {\n",
              "        text-align: right;\n",
              "    }\n",
              "</style>\n",
              "<table border=\"1\" class=\"dataframe\">\n",
              "  <thead>\n",
              "    <tr style=\"text-align: right;\">\n",
              "      <th></th>\n",
              "      <th>X</th>\n",
              "      <th>Y</th>\n",
              "    </tr>\n",
              "  </thead>\n",
              "  <tbody>\n",
              "    <tr>\n",
              "      <th>0</th>\n",
              "      <td>0.428571</td>\n",
              "      <td>0.644970</td>\n",
              "    </tr>\n",
              "    <tr>\n",
              "      <th>1</th>\n",
              "      <td>0.190476</td>\n",
              "      <td>0.745562</td>\n",
              "    </tr>\n",
              "    <tr>\n",
              "      <th>2</th>\n",
              "      <td>0.714286</td>\n",
              "      <td>0.751479</td>\n",
              "    </tr>\n",
              "    <tr>\n",
              "      <th>3</th>\n",
              "      <td>0.380952</td>\n",
              "      <td>0.828402</td>\n",
              "    </tr>\n",
              "    <tr>\n",
              "      <th>4</th>\n",
              "      <td>0.333333</td>\n",
              "      <td>0.727811</td>\n",
              "    </tr>\n",
              "  </tbody>\n",
              "</table>\n",
              "</div>"
            ],
            "text/plain": [
              "          X         Y\n",
              "0  0.428571  0.644970\n",
              "1  0.190476  0.745562\n",
              "2  0.714286  0.751479\n",
              "3  0.380952  0.828402\n",
              "4  0.333333  0.727811"
            ]
          },
          "metadata": {
            "tags": []
          },
          "execution_count": 11
        }
      ]
    },
    {
      "cell_type": "code",
      "metadata": {
        "id": "4ad1D5wuPMwA"
      },
      "source": [
        "train_data,test_data = train_test_split(data_n,test_size=0.1)"
      ],
      "execution_count": 13,
      "outputs": []
    },
    {
      "cell_type": "code",
      "metadata": {
        "colab": {
          "base_uri": "https://localhost:8080/",
          "height": 221
        },
        "id": "61a6Mc4LPSuQ",
        "outputId": "e09d82b4-1199-494d-ea65-cbac722241e1"
      },
      "source": [
        "print(len(train_data))\n",
        "train_data.head()"
      ],
      "execution_count": 14,
      "outputs": [
        {
          "output_type": "stream",
          "text": [
            "28\n"
          ],
          "name": "stdout"
        },
        {
          "output_type": "execute_result",
          "data": {
            "text/html": [
              "<div>\n",
              "<style scoped>\n",
              "    .dataframe tbody tr th:only-of-type {\n",
              "        vertical-align: middle;\n",
              "    }\n",
              "\n",
              "    .dataframe tbody tr th {\n",
              "        vertical-align: top;\n",
              "    }\n",
              "\n",
              "    .dataframe thead th {\n",
              "        text-align: right;\n",
              "    }\n",
              "</style>\n",
              "<table border=\"1\" class=\"dataframe\">\n",
              "  <thead>\n",
              "    <tr style=\"text-align: right;\">\n",
              "      <th></th>\n",
              "      <th>X</th>\n",
              "      <th>Y</th>\n",
              "    </tr>\n",
              "  </thead>\n",
              "  <tbody>\n",
              "    <tr>\n",
              "      <th>19</th>\n",
              "      <td>0.571429</td>\n",
              "      <td>0.633136</td>\n",
              "    </tr>\n",
              "    <tr>\n",
              "      <th>25</th>\n",
              "      <td>0.476190</td>\n",
              "      <td>0.384615</td>\n",
              "    </tr>\n",
              "    <tr>\n",
              "      <th>33</th>\n",
              "      <td>0.285714</td>\n",
              "      <td>0.230769</td>\n",
              "    </tr>\n",
              "    <tr>\n",
              "      <th>23</th>\n",
              "      <td>0.571429</td>\n",
              "      <td>0.029586</td>\n",
              "    </tr>\n",
              "    <tr>\n",
              "      <th>20</th>\n",
              "      <td>0.428571</td>\n",
              "      <td>0.644970</td>\n",
              "    </tr>\n",
              "  </tbody>\n",
              "</table>\n",
              "</div>"
            ],
            "text/plain": [
              "           X         Y\n",
              "19  0.571429  0.633136\n",
              "25  0.476190  0.384615\n",
              "33  0.285714  0.230769\n",
              "23  0.571429  0.029586\n",
              "20  0.428571  0.644970"
            ]
          },
          "metadata": {
            "tags": []
          },
          "execution_count": 14
        }
      ]
    },
    {
      "cell_type": "code",
      "metadata": {
        "id": "1JnOfHFhPdjd"
      },
      "source": [
        "xa = np.array(train_data['X'])\n",
        "ya = np.array(train_data['Y'])"
      ],
      "execution_count": 16,
      "outputs": []
    },
    {
      "cell_type": "markdown",
      "metadata": {
        "id": "bRjOXwJePsEp"
      },
      "source": [
        "TRAIN:"
      ]
    },
    {
      "cell_type": "code",
      "metadata": {
        "colab": {
          "base_uri": "https://localhost:8080/"
        },
        "id": "h9N4GXjxPuY1",
        "outputId": "509dd3cb-497c-4ad8-f23a-2aff7342ccb7"
      },
      "source": [
        "from sympy import Symbol, Derivative, symbols\n",
        "m= Symbol('m')\n",
        "c= Symbol('c')\n",
        "function = '0.5*(y-m*x-c)**2'\n",
        "partialderiv= Derivative(function, m)\n",
        "dfm = partialderiv.doit()\n",
        "partialderiv= Derivative(function, c)\n",
        "dfc = partialderiv.doit()\n",
        "\n",
        "print(f'first order derivatives of given function are de/dm = {dfm} ,de/dc = {dfc}')\n",
        "err = []\n",
        "#step 1 initialise values \n",
        "m1 = -1.0 \n",
        "c1 = 1.0  #variable x, y\n",
        "itr = 100  #epoches\n",
        "learning_rate = 0.1  #learning rate\n",
        "for i in range(0,itr):\n",
        "    er =0\n",
        "    for j in range(0,len(xa)):\n",
        "        er +=  ((ya[j] - (m1 * xa[j]) - c1))**2\n",
        "        #step 2 substitute x ,y in first order derivatives df/dx, df/dy\n",
        "        m = symbols('m')\n",
        "        c = symbols('c')\n",
        "        x = symbols('x')\n",
        "        y = symbols('y')\n",
        "        dfmv = dfm.subs(m, m1) \n",
        "        dfmv = dfmv.subs(c, c1) \n",
        "        dfmv = dfmv.subs(x, xa[j]) \n",
        "        dfmv = dfmv.subs(y, ya[j]) \n",
        "        dfmv = round(dfmv,2)\n",
        "        dfcv = dfc.subs(c, c1) \n",
        "        dfcv = dfcv.subs(m, m1) \n",
        "        dfcv = dfcv.subs(x, xa[j]) \n",
        "        dfcv = dfcv.subs(y, ya[j]) \n",
        "        dfcv = round(dfcv,2)\n",
        "        #step3 find change in x , y\n",
        "        dm = (-1.0)*learning_rate*dfmv\n",
        "        dc = (-1.0)*learning_rate*dfcv\n",
        "        #step4 update variable \n",
        "        m1 = m1 + dm\n",
        "        m1 = round(m1, 2) \n",
        "        c1 = c1 + dc\n",
        "        c1 = round(c1, 2)\n",
        "\n",
        "        er = (1/(2*len(train_data['X'])))*(er)\n",
        "        err.append(er)\n",
        "    #step5 increment iterations \n",
        "    #step6 break loop if iterations exceed no of epoches\n",
        "#step7 print variable x1, y1\n",
        "print(m1, c1)\n",
        "print(f'minimum value obtained at m = {m1} ,c ={c1} for given function')"
      ],
      "execution_count": 17,
      "outputs": [
        {
          "output_type": "stream",
          "text": [
            "first order derivatives of given function are de/dm = -1.0*x*(-c - m*x + y) ,de/dc = 1.0*c + 1.0*m*x - 1.0*y\n",
            "-0.27 0.64\n",
            "minimum value obtained at m = -0.27 ,c =0.64 for given function\n"
          ],
          "name": "stdout"
        }
      ]
    },
    {
      "cell_type": "code",
      "metadata": {
        "colab": {
          "base_uri": "https://localhost:8080/"
        },
        "id": "1tgnB__-P6SS",
        "outputId": "59c83324-c252-4e1e-f784-e767f387498e"
      },
      "source": [
        "train_data_pred =  m1*train_data['X'] + c1\n",
        "\n",
        "from sklearn.metrics import mean_squared_error\n",
        "mse = mean_squared_error(train_data['Y'],train_data_pred)\n",
        "mse"
      ],
      "execution_count": 18,
      "outputs": [
        {
          "output_type": "execute_result",
          "data": {
            "text/plain": [
              "0.08416858526831857"
            ]
          },
          "metadata": {
            "tags": []
          },
          "execution_count": 18
        }
      ]
    },
    {
      "cell_type": "code",
      "metadata": {
        "colab": {
          "base_uri": "https://localhost:8080/",
          "height": 298
        },
        "id": "fvhZ33fuP_cd",
        "outputId": "499ca09c-d74e-4ad4-c85b-663a6d953aaa"
      },
      "source": [
        "plt.plot(np.array(train_data['X']),np.array(train_data_pred),'green')\n",
        "plt.scatter(np.array(train_data['X']),np.array(train_data['Y']),color='red')\n",
        "plt.title('predicted data vs actual data')"
      ],
      "execution_count": 19,
      "outputs": [
        {
          "output_type": "execute_result",
          "data": {
            "text/plain": [
              "Text(0.5, 1.0, 'predicted data vs actual data')"
            ]
          },
          "metadata": {
            "tags": []
          },
          "execution_count": 19
        },
        {
          "output_type": "display_data",
          "data": {
            "image/png": "[encoded data removed]",
            "text/plain": [
              "<Figure size 432x288 with 1 Axes>"
            ]
          },
          "metadata": {
            "tags": [],
            "needs_background": "light"
          }
        }
      ]
    },
    {
      "cell_type": "code",
      "metadata": {
        "colab": {
          "base_uri": "https://localhost:8080/",
          "height": 295
        },
        "id": "4AacaUQbQEMY",
        "outputId": "acc275df-7f8c-4bf4-efac-fbfea31fc00d"
      },
      "source": [
        "iters = np.arange(itr*len(xa))\n",
        "plt.plot(iters,err,'green')\n",
        "plt.title(\"Error graph for training data\")\n",
        "plt.xlabel(\"iteration count\")\n",
        "plt.ylabel(\"error\")\n",
        "plt.grid()"
      ],
      "execution_count": 20,
      "outputs": [
        {
          "output_type": "display_data",
          "data": {
            "image/png": "[encoded data removed]",
            "text/plain": [
              "<Figure size 432x288 with 1 Axes>"
            ]
          },
          "metadata": {
            "tags": [],
            "needs_background": "light"
          }
        }
      ]
    },
    {
      "cell_type": "code",
      "metadata": {
        "colab": {
          "base_uri": "https://localhost:8080/"
        },
        "id": "SiE5eD2fQIXO",
        "outputId": "9849c83a-86ce-4efd-a78b-d983df9fd886"
      },
      "source": [
        "test_data_pred = m1 *test_data['X'] + c1\n",
        "mse2 = mean_squared_error(test_data['Y'],test_data_pred)\n",
        "mse2"
      ],
      "execution_count": 21,
      "outputs": [
        {
          "output_type": "execute_result",
          "data": {
            "text/plain": [
              "0.056199636058531274"
            ]
          },
          "metadata": {
            "tags": []
          },
          "execution_count": 21
        }
      ]
    },
    {
      "cell_type": "code",
      "metadata": {
        "colab": {
          "base_uri": "https://localhost:8080/",
          "height": 265
        },
        "id": "4Az--93xQOBN",
        "outputId": "e4f196f6-97f9-4d4b-f36e-2b55d47a5212"
      },
      "source": [
        "plt.scatter(test_data['X'],test_data['Y'],color='red')\n",
        "plt.plot(test_data['X'],test_data_pred,'green')\n",
        "plt.grid()"
      ],
      "execution_count": 22,
      "outputs": [
        {
          "output_type": "display_data",
          "data": {
            "image/png": "[encoded data removed]",
            "text/plain": [
              "<Figure size 432x288 with 1 Axes>"
            ]
          },
          "metadata": {
            "tags": [],
            "needs_background": "light"
          }
        }
      ]
    },
    {
      "cell_type": "code",
      "metadata": {
        "id": "oVLXWRnBQSEK"
      },
      "source": [
        "x_min = data['X'].min()\n",
        "x_max = data['X'].max()\n",
        "y_min = data['Y'].min()\n",
        "y_max = data['Y'].max()"
      ],
      "execution_count": 23,
      "outputs": []
    },
    {
      "cell_type": "code",
      "metadata": {
        "colab": {
          "base_uri": "https://localhost:8080/"
        },
        "id": "OOhBLWh3Qavk",
        "outputId": "cb850a34-665c-4df8-91c5-9d206997c4df"
      },
      "source": [
        "x =x1 = float(input(\"enter pH value of well water :\"))\n",
        "x = (x - x_min)/(x_max - x_min)\n",
        "y = m1*x + c1\n",
        "y = y*(y_max - y_min) + y_min\n",
        "print(f\"bicarbonates of well water based on its pH {x1} is : {y}\")"
      ],
      "execution_count": 24,
      "outputs": [
        {
          "output_type": "stream",
          "text": [
            "enter pH value of well water :9.5\n",
            "bicarbonates of well water based on its pH 9.5 is : 95.2561848958334\n"
          ],
          "name": "stdout"
        }
      ]
    }
  ]
}